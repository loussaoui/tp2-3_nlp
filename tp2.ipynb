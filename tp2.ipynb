{
  "nbformat": 4,
  "nbformat_minor": 0,
  "metadata": {
    "colab": {
      "name": "tp2.ipynb",
      "provenance": [],
      "collapsed_sections": [],
      "include_colab_link": true
    },
    "kernelspec": {
      "name": "python3",
      "display_name": "Python 3"
    },
    "language_info": {
      "name": "python"
    }
  },
  "cells": [
    {
      "cell_type": "markdown",
      "metadata": {
        "id": "view-in-github",
        "colab_type": "text"
      },
      "source": [
        "<a href=\"https://colab.research.google.com/github/loussaoui/tp2-3_nlp/blob/main/tp2.ipynb\" target=\"_parent\"><img src=\"https://colab.research.google.com/assets/colab-badge.svg\" alt=\"Open In Colab\"/></a>"
      ]
    },
    {
      "cell_type": "code",
      "metadata": {
        "colab": {
          "base_uri": "https://localhost:8080/"
        },
        "id": "p2twrhIL2-_7",
        "outputId": "3b645553-4313-411f-c87c-64fac91b56d8"
      },
      "source": [
        "texte = '''Perhaps one of the most significant advances made by Arabic mathematics began at this time with the work of al-Khwarizmi, namely the \n",
        "beginnings of algebra. It is important to understand just how significant this new idea was. It was a revolutionary move away from the Greek \n",
        "concept of mathematics which was essentially geometry. Algebra was a unifying theory which allowed rational numbers, irrational numbers, \n",
        "geometrical magnitudes, etc., to all be treated as \"algebraic objects\". It gave mathematics a whole new development path so much broader in \n",
        "concept to that which had existed before, and provided a vehicle for future development of the subject. Another important aspect of the \n",
        "introduction of algebraic ideas was that it allowed mathematics to be applied to itself in a way which had not happened before.'''\n",
        "print(texte)\n"
      ],
      "execution_count": null,
      "outputs": [
        {
          "output_type": "stream",
          "text": [
            "Perhaps one of the most significant advances made by Arabic mathematics began at this time with the work of al-Khwarizmi, namely the \n",
            "beginnings of algebra. It is important to understand just how significant this new idea was. It was a revolutionary move away from the Greek \n",
            "concept of mathematics which was essentially geometry. Algebra was a unifying theory which allowed rational numbers, irrational numbers, \n",
            "geometrical magnitudes, etc., to all be treated as \"algebraic objects\". It gave mathematics a whole new development path so much broader in \n",
            "concept to that which had existed before, and provided a vehicle for future development of the subject. Another important aspect of the \n",
            "introduction of algebraic ideas was that it allowed mathematics to be applied to itself in a way which had not happened before.\n"
          ],
          "name": "stdout"
        }
      ]
    },
    {
      "cell_type": "markdown",
      "metadata": {
        "id": "baZU7L4E35jt"
      },
      "source": [
        "# Work Token"
      ]
    },
    {
      "cell_type": "code",
      "metadata": {
        "id": "2KiinZ9z4j9V",
        "colab": {
          "base_uri": "https://localhost:8080/"
        },
        "outputId": "b47f4d62-5630-4684-ba9c-5f7785042ea5"
      },
      "source": [
        "import nltk\n",
        "nltk.download('punkt')\n",
        "nltk.download('averaged_perceptron_tagger')\n",
        "nltk.download('wordnet')"
      ],
      "execution_count": null,
      "outputs": [
        {
          "output_type": "stream",
          "text": [
            "[nltk_data] Downloading package punkt to /root/nltk_data...\n",
            "[nltk_data]   Package punkt is already up-to-date!\n",
            "[nltk_data] Downloading package averaged_perceptron_tagger to\n",
            "[nltk_data]     /root/nltk_data...\n",
            "[nltk_data]   Package averaged_perceptron_tagger is already up-to-\n",
            "[nltk_data]       date!\n",
            "[nltk_data] Downloading package wordnet to /root/nltk_data...\n",
            "[nltk_data]   Package wordnet is already up-to-date!\n"
          ],
          "name": "stdout"
        },
        {
          "output_type": "execute_result",
          "data": {
            "text/plain": [
              "True"
            ]
          },
          "metadata": {
            "tags": []
          },
          "execution_count": 21
        }
      ]
    },
    {
      "cell_type": "code",
      "metadata": {
        "id": "p5QYnMDc3u-E",
        "colab": {
          "base_uri": "https://localhost:8080/"
        },
        "outputId": "e32c5e45-9889-42f8-a6f9-3a873ce47e42"
      },
      "source": [
        "from nltk import pos_tag\n",
        "from nltk import RegexpParser\n",
        "from nltk.tokenize import sent_tokenize\n",
        "\n",
        "tokens = nltk.word_tokenize(texte)\n",
        "print(\"After Split:\",tokens)"
      ],
      "execution_count": null,
      "outputs": [
        {
          "output_type": "stream",
          "text": [
            "After Split: ['Perhaps', 'one', 'of', 'the', 'most', 'significant', 'advances', 'made', 'by', 'Arabic', 'mathematics', 'began', 'at', 'this', 'time', 'with', 'the', 'work', 'of', 'al-Khwarizmi', ',', 'namely', 'the', 'beginnings', 'of', 'algebra', '.', 'It', 'is', 'important', 'to', 'understand', 'just', 'how', 'significant', 'this', 'new', 'idea', 'was', '.', 'It', 'was', 'a', 'revolutionary', 'move', 'away', 'from', 'the', 'Greek', 'concept', 'of', 'mathematics', 'which', 'was', 'essentially', 'geometry', '.', 'Algebra', 'was', 'a', 'unifying', 'theory', 'which', 'allowed', 'rational', 'numbers', ',', 'irrational', 'numbers', ',', 'geometrical', 'magnitudes', ',', 'etc.', ',', 'to', 'all', 'be', 'treated', 'as', '``', 'algebraic', 'objects', \"''\", '.', 'It', 'gave', 'mathematics', 'a', 'whole', 'new', 'development', 'path', 'so', 'much', 'broader', 'in', 'concept', 'to', 'that', 'which', 'had', 'existed', 'before', ',', 'and', 'provided', 'a', 'vehicle', 'for', 'future', 'development', 'of', 'the', 'subject', '.', 'Another', 'important', 'aspect', 'of', 'the', 'introduction', 'of', 'algebraic', 'ideas', 'was', 'that', 'it', 'allowed', 'mathematics', 'to', 'be', 'applied', 'to', 'itself', 'in', 'a', 'way', 'which', 'had', 'not', 'happened', 'before', '.']\n"
          ],
          "name": "stdout"
        }
      ]
    },
    {
      "cell_type": "code",
      "metadata": {
        "colab": {
          "base_uri": "https://localhost:8080/"
        },
        "id": "tcKNrCAT6LTE",
        "outputId": "480b921b-f2e3-4c61-b565-afd2d61e58af"
      },
      "source": [
        "sent=sent_tokenize(texte)\n",
        "print(\"After sentence token:\",sent)"
      ],
      "execution_count": null,
      "outputs": [
        {
          "output_type": "stream",
          "text": [
            "After sentence token: ['Perhaps one of the most significant advances made by Arabic mathematics began at this time with the work of al-Khwarizmi, namely the \\nbeginnings of algebra.', 'It is important to understand just how significant this new idea was.', 'It was a revolutionary move away from the Greek \\nconcept of mathematics which was essentially geometry.', 'Algebra was a unifying theory which allowed rational numbers, irrational numbers, \\ngeometrical magnitudes, etc., to all be treated as \"algebraic objects\".', 'It gave mathematics a whole new development path so much broader in \\nconcept to that which had existed before, and provided a vehicle for future development of the subject.', 'Another important aspect of the \\nintroduction of algebraic ideas was that it allowed mathematics to be applied to itself in a way which had not happened before.']\n"
          ],
          "name": "stdout"
        }
      ]
    },
    {
      "cell_type": "markdown",
      "metadata": {
        "id": "RMczPsaU-z7a"
      },
      "source": [
        "# Bag-of-Words"
      ]
    },
    {
      "cell_type": "code",
      "metadata": {
        "colab": {
          "base_uri": "https://localhost:8080/"
        },
        "id": "L17Fy1Ne72H7",
        "outputId": "17db9fdb-1a2e-4735-b483-d315df058ae2"
      },
      "source": [
        "from keras.preprocessing.text import Tokenizer\n",
        " \n",
        "# using tokenizer \n",
        "model = Tokenizer()\n",
        "model.fit_on_texts(sent)\n",
        " \n",
        "#print keys \n",
        "\n",
        "print(f'Key : {list(model.word_index.keys())}')\n",
        " \n",
        "#create bag of words representation \n",
        "rep = model.texts_to_matrix(sent, mode='count')\n",
        "print()\n",
        "print(rep)"
      ],
      "execution_count": null,
      "outputs": [
        {
          "output_type": "stream",
          "text": [
            "Key : ['of', 'the', 'to', 'was', 'a', 'mathematics', 'it', 'which', 'significant', 'this', 'algebra', 'important', 'new', 'concept', 'allowed', 'numbers', 'be', 'algebraic', 'development', 'in', 'that', 'had', 'before', 'perhaps', 'one', 'most', 'advances', 'made', 'by', 'arabic', 'began', 'at', 'time', 'with', 'work', 'al', 'khwarizmi', 'namely', 'beginnings', 'is', 'understand', 'just', 'how', 'idea', 'revolutionary', 'move', 'away', 'from', 'greek', 'essentially', 'geometry', 'unifying', 'theory', 'rational', 'irrational', 'geometrical', 'magnitudes', 'etc', 'all', 'treated', 'as', 'objects', 'gave', 'whole', 'path', 'so', 'much', 'broader', 'existed', 'and', 'provided', 'vehicle', 'for', 'future', 'subject', 'another', 'aspect', 'introduction', 'ideas', 'applied', 'itself', 'way', 'not', 'happened']\n",
            "\n",
            "[[0. 3. 3. 0. 0. 0. 1. 0. 0. 1. 1. 1. 0. 0. 0. 0. 0. 0. 0. 0. 0. 0. 0. 0.\n",
            "  1. 1. 1. 1. 1. 1. 1. 1. 1. 1. 1. 1. 1. 1. 1. 1. 0. 0. 0. 0. 0. 0. 0. 0.\n",
            "  0. 0. 0. 0. 0. 0. 0. 0. 0. 0. 0. 0. 0. 0. 0. 0. 0. 0. 0. 0. 0. 0. 0. 0.\n",
            "  0. 0. 0. 0. 0. 0. 0. 0. 0. 0. 0. 0. 0.]\n",
            " [0. 0. 0. 1. 1. 0. 0. 1. 0. 1. 1. 0. 1. 1. 0. 0. 0. 0. 0. 0. 0. 0. 0. 0.\n",
            "  0. 0. 0. 0. 0. 0. 0. 0. 0. 0. 0. 0. 0. 0. 0. 0. 1. 1. 1. 1. 1. 0. 0. 0.\n",
            "  0. 0. 0. 0. 0. 0. 0. 0. 0. 0. 0. 0. 0. 0. 0. 0. 0. 0. 0. 0. 0. 0. 0. 0.\n",
            "  0. 0. 0. 0. 0. 0. 0. 0. 0. 0. 0. 0. 0.]\n",
            " [0. 1. 1. 0. 2. 1. 1. 1. 1. 0. 0. 0. 0. 0. 1. 0. 0. 0. 0. 0. 0. 0. 0. 0.\n",
            "  0. 0. 0. 0. 0. 0. 0. 0. 0. 0. 0. 0. 0. 0. 0. 0. 0. 0. 0. 0. 0. 1. 1. 1.\n",
            "  1. 1. 1. 1. 0. 0. 0. 0. 0. 0. 0. 0. 0. 0. 0. 0. 0. 0. 0. 0. 0. 0. 0. 0.\n",
            "  0. 0. 0. 0. 0. 0. 0. 0. 0. 0. 0. 0. 0.]\n",
            " [0. 0. 0. 1. 1. 1. 0. 0. 1. 0. 0. 1. 0. 0. 0. 1. 2. 1. 1. 0. 0. 0. 0. 0.\n",
            "  0. 0. 0. 0. 0. 0. 0. 0. 0. 0. 0. 0. 0. 0. 0. 0. 0. 0. 0. 0. 0. 0. 0. 0.\n",
            "  0. 0. 0. 0. 1. 1. 1. 1. 1. 1. 1. 1. 1. 1. 1. 0. 0. 0. 0. 0. 0. 0. 0. 0.\n",
            "  0. 0. 0. 0. 0. 0. 0. 0. 0. 0. 0. 0. 0.]\n",
            " [0. 1. 1. 1. 0. 2. 1. 1. 1. 0. 0. 0. 0. 1. 1. 0. 0. 0. 0. 2. 1. 1. 1. 1.\n",
            "  0. 0. 0. 0. 0. 0. 0. 0. 0. 0. 0. 0. 0. 0. 0. 0. 0. 0. 0. 0. 0. 0. 0. 0.\n",
            "  0. 0. 0. 0. 0. 0. 0. 0. 0. 0. 0. 0. 0. 0. 0. 1. 1. 1. 1. 1. 1. 1. 1. 1.\n",
            "  1. 1. 1. 1. 0. 0. 0. 0. 0. 0. 0. 0. 0.]\n",
            " [0. 2. 1. 2. 1. 1. 1. 1. 1. 0. 0. 0. 1. 0. 0. 1. 0. 1. 1. 0. 1. 1. 1. 1.\n",
            "  0. 0. 0. 0. 0. 0. 0. 0. 0. 0. 0. 0. 0. 0. 0. 0. 0. 0. 0. 0. 0. 0. 0. 0.\n",
            "  0. 0. 0. 0. 0. 0. 0. 0. 0. 0. 0. 0. 0. 0. 0. 0. 0. 0. 0. 0. 0. 0. 0. 0.\n",
            "  0. 0. 0. 0. 1. 1. 1. 1. 1. 1. 1. 1. 1.]]\n"
          ],
          "name": "stdout"
        }
      ]
    },
    {
      "cell_type": "markdown",
      "metadata": {
        "id": "uCls6B1uCZrJ"
      },
      "source": [
        "# Term Frequency"
      ]
    },
    {
      "cell_type": "code",
      "metadata": {
        "colab": {
          "base_uri": "https://localhost:8080/"
        },
        "id": "om30_m3WCFXP",
        "outputId": "76c8ae52-9a7d-401f-ca14-d1266327901e"
      },
      "source": [
        "from sklearn.feature_extraction.text import TfidfVectorizer\n",
        "\n",
        "tfidf  = TfidfVectorizer()\n",
        "corpus = tfidf.fit_transform(sent)\n",
        "print(tfidf.get_feature_names())\n",
        "print(corpus)"
      ],
      "execution_count": null,
      "outputs": [
        {
          "output_type": "stream",
          "text": [
            "['advances', 'al', 'algebra', 'algebraic', 'all', 'allowed', 'and', 'another', 'applied', 'arabic', 'as', 'aspect', 'at', 'away', 'be', 'before', 'began', 'beginnings', 'broader', 'by', 'concept', 'development', 'essentially', 'etc', 'existed', 'for', 'from', 'future', 'gave', 'geometrical', 'geometry', 'greek', 'had', 'happened', 'how', 'idea', 'ideas', 'important', 'in', 'introduction', 'irrational', 'is', 'it', 'itself', 'just', 'khwarizmi', 'made', 'magnitudes', 'mathematics', 'most', 'move', 'much', 'namely', 'new', 'not', 'numbers', 'objects', 'of', 'one', 'path', 'perhaps', 'provided', 'rational', 'revolutionary', 'significant', 'so', 'subject', 'that', 'the', 'theory', 'this', 'time', 'to', 'treated', 'understand', 'unifying', 'vehicle', 'was', 'way', 'which', 'whole', 'with', 'work']\n",
            "  (0, 2)\t0.1649809886902053\n",
            "  (0, 17)\t0.20119281778908413\n",
            "  (0, 52)\t0.20119281778908413\n",
            "  (0, 45)\t0.20119281778908413\n",
            "  (0, 1)\t0.20119281778908413\n",
            "  (0, 82)\t0.20119281778908413\n",
            "  (0, 81)\t0.20119281778908413\n",
            "  (0, 71)\t0.20119281778908413\n",
            "  (0, 70)\t0.1649809886902053\n",
            "  (0, 12)\t0.20119281778908413\n",
            "  (0, 16)\t0.20119281778908413\n",
            "  (0, 48)\t0.1193594794228589\n",
            "  (0, 9)\t0.20119281778908413\n",
            "  (0, 19)\t0.20119281778908413\n",
            "  (0, 46)\t0.20119281778908413\n",
            "  (0, 0)\t0.20119281778908413\n",
            "  (0, 64)\t0.1649809886902053\n",
            "  (0, 49)\t0.20119281778908413\n",
            "  (0, 68)\t0.3580784382685767\n",
            "  (0, 57)\t0.3580784382685767\n",
            "  (0, 58)\t0.20119281778908413\n",
            "  (0, 60)\t0.20119281778908413\n",
            "  (1, 77)\t0.2006090652564693\n",
            "  (1, 35)\t0.33814744591834767\n",
            "  (1, 53)\t0.2772857429193158\n",
            "  :\t:\n",
            "  (4, 57)\t0.12331157606757984\n",
            "  (5, 33)\t0.22968897795245102\n",
            "  (5, 54)\t0.22968897795245102\n",
            "  (5, 78)\t0.22968897795245102\n",
            "  (5, 43)\t0.22968897795245102\n",
            "  (5, 8)\t0.22968897795245102\n",
            "  (5, 36)\t0.22968897795245102\n",
            "  (5, 39)\t0.22968897795245102\n",
            "  (5, 11)\t0.22968897795245102\n",
            "  (5, 7)\t0.22968897795245102\n",
            "  (5, 15)\t0.18834824766738828\n",
            "  (5, 32)\t0.18834824766738828\n",
            "  (5, 67)\t0.18834824766738828\n",
            "  (5, 38)\t0.18834824766738828\n",
            "  (5, 3)\t0.18834824766738828\n",
            "  (5, 14)\t0.18834824766738828\n",
            "  (5, 5)\t0.18834824766738828\n",
            "  (5, 79)\t0.13626508708831517\n",
            "  (5, 77)\t0.13626508708831517\n",
            "  (5, 72)\t0.27253017417663034\n",
            "  (5, 37)\t0.18834824766738828\n",
            "  (5, 42)\t0.13626508708831517\n",
            "  (5, 48)\t0.13626508708831517\n",
            "  (5, 68)\t0.13626508708831517\n",
            "  (5, 57)\t0.27253017417663034\n"
          ],
          "name": "stdout"
        }
      ]
    }
  ]
}